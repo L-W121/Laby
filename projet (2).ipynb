{
 "cells": [
  {
   "cell_type": "code",
   "execution_count": 42,
   "id": "06e9fe25-9f49-4bed-851e-55363efd556b",
   "metadata": {},
   "outputs": [
    {
     "name": "stdout",
     "output_type": "stream",
     "text": [
      "[[2. 1. 2. 1. 2. 1. 2.]\n",
      " [1. 1. 1. 1. 1. 1. 1.]\n",
      " [2. 1. 2. 1. 2. 1. 2.]\n",
      " [1. 1. 1. 1. 1. 1. 1.]\n",
      " [2. 1. 2. 1. 2. 1. 2.]]\n"
     ]
    }
   ],
   "source": [
    "import numpy as np\n",
    "empty = np.ones((5,7))\n",
    "for i in range(3):\n",
    "    for j in range(4):\n",
    "        empty[2*i][2*j]=2\n",
    "print(empty)\n",
    "\n"
   ]
  },
  {
   "cell_type": "code",
   "execution_count": 43,
   "id": "3d631649-e979-4527-adab-0e08798449fb",
   "metadata": {},
   "outputs": [],
   "source": [
    "def dessin(a):\n",
    "    for k in range(len(a[0])):\n",
    "        print(\"#\", end=\"\")\n",
    "    print(\"##\")\n",
    "    for i in a: \n",
    "        print(\"#\", end=\"\")\n",
    "        for j in i:\n",
    "            if j==2:\n",
    "                print(\"*\", end=\"\")\n",
    "            elif j==1:\n",
    "                print(\" \", end=\"\")\n",
    "            else:\n",
    "                print(\"H\", end=\"\")\n",
    "        print(\"#\")\n",
    "    for k in range(len(a[0])):\n",
    "        print(\"#\", end=\"\")\n",
    "    print(\"##\")"
   ]
  },
  {
   "cell_type": "code",
   "execution_count": 44,
   "id": "b84f093e-c248-4b7e-80e6-be5ff223731c",
   "metadata": {},
   "outputs": [],
   "source": [
    "\n",
    "def create_empty(a, b):\n",
    "    empty = np.ones((2*a-1, 2*b-1))\n",
    "    for i in range(a):\n",
    "        for j in range(b):\n",
    "            empty[2*i][2*j]=2\n",
    "    for i in range(a-1):\n",
    "        for j in range(b-1):\n",
    "            empty[2*i+1][2*j+1]=0\n",
    "    return empty\n",
    "\n",
    "k=create_empty(4,5)"
   ]
  },
  {
   "cell_type": "code",
   "execution_count": 75,
   "id": "d1c1bf48-5c8d-4950-9f53-1d21ed178e22",
   "metadata": {},
   "outputs": [],
   "source": [
    "def add_mur(i1,j1,i2,j2,laby):\n",
    "    if i1==i2 and abs(j1-j2) == 1:\n",
    "        laby[2*i1][j1+j2]=0\n",
    "    if j1==j2 and abs(i1-i2) == 1:\n",
    "        laby[i1+i2][2*j1]=0\n",
    "    return laby\n",
    "\n",
    "def remove_mur(i1,j1,i2,j2,laby):\n",
    "    if i1==i2 and abs(j1-j2) == 1:\n",
    "        laby[2*i1][j1+j2]=1\n",
    "    if j1==j2 and abs(i1-i2) == 1:\n",
    "        laby[i1+i2][2*j1]=1\n",
    "    return laby\n",
    "k=add_mur(2,2,1,2,k)\n",
    "k=add_mur(1,3,1,4,k)\n",
    "k=add_mur(2,3,1,3,k)\n",
    "k=add_mur(2,0,1,0,k)\n",
    "k=add_mur(0,2,0,1,k)\n",
    "k=add_mur(0,2,1,2,k)\n",
    "k=add_mur(0,3,1,3,k)\n",
    "k=add_mur(1,2,2,2,k)\n",
    "k=add_mur(1,3,2,3,k)"
   ]
  },
  {
   "cell_type": "code",
   "execution_count": 76,
   "id": "0eafe6b8-cf96-4bbe-ac9d-2eaf2bee6b22",
   "metadata": {},
   "outputs": [
    {
     "data": {
      "text/plain": [
       "array([[2., 1., 2., 0., 2., 1., 2., 1., 2.],\n",
       "       [1., 0., 1., 0., 0., 0., 0., 0., 1.],\n",
       "       [2., 1., 2., 1., 2., 1., 2., 0., 2.],\n",
       "       [0., 0., 1., 0., 0., 0., 0., 0., 1.],\n",
       "       [2., 1., 2., 0., 2., 1., 2., 0., 2.],\n",
       "       [1., 0., 1., 0., 1., 0., 1., 0., 1.],\n",
       "       [2., 1., 2., 0., 2., 1., 2., 1., 2.]])"
      ]
     },
     "execution_count": 76,
     "metadata": {},
     "output_type": "execute_result"
    }
   ],
   "source": [
    "k"
   ]
  },
  {
   "cell_type": "code",
   "execution_count": 92,
   "id": "139eb7cc-5f94-4f9a-a36b-e6ba420ee6f2",
   "metadata": {},
   "outputs": [
    {
     "name": "stdout",
     "output_type": "stream",
     "text": [
      "###########\n",
      "#* *H* * *#\n",
      "# H HHHHH #\n",
      "#* * * * *#\n",
      "#HH HHHHH #\n",
      "#* *H* *H*#\n",
      "# H H H H #\n",
      "#* *H* * *#\n",
      "###########\n"
     ]
    }
   ],
   "source": [
    "dessin(k)"
   ]
  },
  {
   "cell_type": "code",
   "execution_count": 77,
   "id": "1601f1bd-cde3-4f59-ab12-5b8decfa0a2e",
   "metadata": {},
   "outputs": [],
   "source": [
    "def cellulesAdjcentes(laby):\n",
    "    '''\n",
    "Cette fonction génère un dictionnaire res qui représente les cellules adjacentes dans un labyrinthe donné laby. Elle fonctionne comme suit :\n",
    "\n",
    "Paramètre d'entrée : laby, un tableau à deux dimensions représentant le labyrinthe.\n",
    "Sortie : Un dictionnaire où chaque clé est une paire (i, j) représentant une cellule du labyrinthe et la valeur est une liste des cellules adjacentes à cette cellule.\n",
    "Explication des étapes :\n",
    "\n",
    "Initialisation des dimensions :\n",
    "\n",
    "len_lig et len_col sont calculés en prenant la moitié du nombre de lignes et de colonnes de laby (en divisant par 2 et en ajoutant 1 pour prendre en compte la structure particulière du labyrinthe).\n",
    "Création du dictionnaire res :\n",
    "\n",
    "Une boucle double crée un dictionnaire avec des clés (i, j) correspondant aux coordonnées des cellules. Chaque clé a une liste vide comme valeur initiale.\n",
    "Ajout des voisins adjacents :\n",
    "\n",
    "La fonction parcourt le labyrinthe et pour chaque cellule (i, j), elle vérifie les cases voisines :\n",
    "Si la cellule à droite (laby[x][y+1]) ou en bas (laby[x+1][y]) est accessible (indiquée par une valeur de 1 dans laby), la cellule (i, j) sera ajoutée à la liste des voisins de la cellule voisine.\n",
    "Ce processus est bidirectionnel : si (i, j) est voisin de (i+1, j) ou (i, j+1), alors les deux cellules seront inscrites dans les listes des deux.\n",
    "Retour : Le dictionnaire res est renvoyé, contenant toutes les informations des cellules adjacentes.\n",
    "    '''\n",
    "    res={}\n",
    "    len_lig = len(laby[1])//2 + 1\n",
    "    len_col = len(laby)//2 + 1\n",
    "    for i in range(len_col):\n",
    "        for j in range(len_lig):\n",
    "            res[(i,j)]=[]\n",
    "    #add the close space\n",
    "    for i in range(len_col):\n",
    "        for j in range(len_lig):\n",
    "            x=2*i\n",
    "            y=2*j\n",
    "            if i<len_col-1:\n",
    "                if laby[x+1][y]==1:\n",
    "                    res[(i,j)].append((i+1,j))\n",
    "                    res[(i+1,j)].append((i,j))\n",
    "            if j<len_lig-1:\n",
    "                if laby[x][y+1]==1:\n",
    "                    res[(i,j+1)].append((i,j))\n",
    "                    res[(i,j)].append((i,j+1))\n",
    "    return res\n",
    "\n",
    "def cellulesPossible(i,j,laby):\n",
    "    '''\n",
    "    Cette fonction permet de déterminer toutes les cellules accessibles à partir de la cellule donnée (i, j) dans le labyrinthe. Elle utilise les informations de la fonction cellulesAdjcentes.\n",
    "\n",
    "Paramètres d'entrée :\n",
    "\n",
    "(i, j) : les coordonnées d'une cellule de départ.\n",
    "laby : le labyrinthe.\n",
    "Sortie : Une liste contenant toutes les cellules accessibles depuis la cellule (i, j).\n",
    "\n",
    "Explication des étapes :\n",
    "\n",
    "Obtention des voisins directs :\n",
    "\n",
    "La fonction commence par appeler cellulesAdjcentes(laby) pour obtenir les voisins directs de la cellule (i, j) (c’est-à-dire, les cellules adjacentes immédiates).\n",
    "Ces voisins sont stockés dans la liste res.\n",
    "Recherche de voisins de voisins (répétée) :\n",
    "\n",
    "La fonction parcourt récursivement les voisins de chaque cellule pour ajouter d'autres cellules accessibles.\n",
    "Elle maintient deux listes :\n",
    "res pour les cellules déjà trouvées.\n",
    "add pour les nouvelles cellules à ajouter.\n",
    "Les cellules qui ne sont pas déjà dans res ou add sont ajoutées à la liste add.\n",
    "La procédure continue jusqu’à ce qu'il n'y ait plus de nouvelles cellules à ajouter (c'est-à-dire que add devient vide).\n",
    "Retour : La fonction renvoie la liste des cellules accessibles, qui comprend toutes les cellules adjacentes, puis les cellules accessibles indirectement.\n",
    "    '''\n",
    "    dic = cellulesAdjcentes(laby)\n",
    "    p = (i,j)\n",
    "    res = dic[p]\n",
    "    add = []\n",
    "    for p1 in res:\n",
    "        for p2 in dic[p1]:\n",
    "            if p2 not in add+res:\n",
    "                add.append(p2)\n",
    "\n",
    "    \n",
    "    added = add[:]\n",
    "    res += add\n",
    "    while add != []:\n",
    "        add = []\n",
    "        for p1 in added:\n",
    "            for p2 in dic[p1]:\n",
    "                if p2 not in add and p2 not in res:\n",
    "                    add.append(p2)\n",
    "        added = add[:]\n",
    "        res += added\n",
    "    \n",
    "    return res"
   ]
  },
  {
   "cell_type": "code",
   "execution_count": 89,
   "id": "f900ee8f-d6ef-4a2b-ad28-828e6d41a024",
   "metadata": {},
   "outputs": [],
   "source": [
    "def is_laby(k):\n",
    "    #1. All cells are connected\n",
    "    if (len(cellulesPossible(0,0,k)) != (len(k)+1)*(len(k[0])+1)/4):\n",
    "        print(\"NOT All cells are connected!\")\n",
    "        return False\n",
    "    \n",
    "    #2. One possible way:  il existe exactement nm − 1 bordures entre cellules qui ne sont pas des murs \n",
    "    n = 0\n",
    "    for i in k:\n",
    "        for j in i:\n",
    "            if j == 1:\n",
    "                n += 1\n",
    "    if n != (len(k)+1)*(len(k[0])+1)/4 - 1:\n",
    "        print(\"NOT One possible way:  il existe exactement nm − 1 bordures entre cellules qui ne sont pas des murs \")\n",
    "        return False\n",
    "\n",
    "    return True"
   ]
  },
  {
   "cell_type": "code",
   "execution_count": 90,
   "id": "088cff80-d963-492d-82bf-9e2544791b71",
   "metadata": {},
   "outputs": [
    {
     "name": "stdout",
     "output_type": "stream",
     "text": [
      "###########\n",
      "#* *H* * *#\n",
      "# H HHHHH #\n",
      "#* * * * *#\n",
      "#HH HHHHH #\n",
      "#* *H* *H*#\n",
      "# H H H H #\n",
      "#* *H* * *#\n",
      "###########\n"
     ]
    }
   ],
   "source": [
    "k=remove_mur(1,3,1,4,k)\n",
    "dessin(k)"
   ]
  },
  {
   "cell_type": "code",
   "execution_count": 91,
   "id": "05bb9655-53e3-4701-9a8b-36e0c83ccb15",
   "metadata": {},
   "outputs": [
    {
     "name": "stdout",
     "output_type": "stream",
     "text": [
      "NOT One possible way:  il existe exactement nm − 1 bordures entre cellules qui ne sont pas des murs \n"
     ]
    },
    {
     "data": {
      "text/plain": [
       "False"
      ]
     },
     "execution_count": 91,
     "metadata": {},
     "output_type": "execute_result"
    }
   ],
   "source": [
    "is_laby(k)"
   ]
  },
  {
   "cell_type": "code",
   "execution_count": 9,
   "id": "de02bc55-5e42-4d94-a971-2be370731744",
   "metadata": {},
   "outputs": [
    {
     "name": "stdout",
     "output_type": "stream",
     "text": [
      "###########\n",
      "#* *o* * *#\n",
      "# o o o o #\n",
      "#* * * *o*#\n",
      "# o o o o #\n",
      "#* *o* *o*#\n",
      "# o o o o #\n",
      "#* *o* * *#\n",
      "###########\n"
     ]
    }
   ],
   "source": [
    "dessin(k)"
   ]
  },
  {
   "cell_type": "code",
   "execution_count": null,
   "id": "389efd57-8f5b-46b4-b221-92484bd131d5",
   "metadata": {},
   "outputs": [],
   "source": []
  }
 ],
 "metadata": {
  "kernelspec": {
   "display_name": "Python 3 (ipykernel)",
   "language": "python",
   "name": "python3"
  },
  "language_info": {
   "codemirror_mode": {
    "name": "ipython",
    "version": 3
   },
   "file_extension": ".py",
   "mimetype": "text/x-python",
   "name": "python",
   "nbconvert_exporter": "python",
   "pygments_lexer": "ipython3",
   "version": "3.12.8"
  }
 },
 "nbformat": 4,
 "nbformat_minor": 5
}
